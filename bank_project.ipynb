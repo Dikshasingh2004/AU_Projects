{
 "cells": [
  {
   "cell_type": "code",
   "execution_count": 1,
   "id": "06de207d",
   "metadata": {},
   "outputs": [],
   "source": [
    "class Bank:\n",
    "    def __init__(self):\n",
    "        self.pin = 0\n",
    "        self.bal = 0\n",
    "        self.Menu()\n",
    "\n",
    "    def Menu(self):\n",
    "        user_input = input('''\n",
    "        1.Press 1 for Generate Pin:\n",
    "        2.Press 2 for Set balance:\n",
    "        3.Press 3 for withdrawl: ''')\n",
    "        if user_input == \"1\":\n",
    "            new_pin = input(\"Enter your pin:\")\n",
    "            self.set_pin(new_pin)\n",
    "        if user_input == \"2\":\n",
    "            self.set_balance()\n",
    "        if user_input == \"3\":\n",
    "            self.withdrawl()\n",
    "\n",
    "    def set_pin(self,new_pin):\n",
    "        self.pin = new_pin\n",
    "        self.Menu()\n",
    "\n",
    "    def set_balance(self):\n",
    "        new_balance = int(input(\"Enter your Amount\"))\n",
    "        self.bal = new_balance\n",
    "        self.Menu()\n",
    "\n",
    "    def withdrawl(self):\n",
    "        pin = input(\"Enter Your new pin:\")\n",
    "        if self.pin == pin:\n",
    "            amount = float(input(\"enter amount\"))\n",
    "            if amount>self.bal:\n",
    "                print(\"insufficient balance\")\n",
    "                exit()\n",
    "            else:\n",
    "                self.bal = self.bal - amount\n",
    "                print(\"transaction successful\")\n",
    "                print(\"current bal\",self.bal)\n",
    "        else:\n",
    "            print(\"Incorrect Pin\")"
   ]
  },
  {
   "cell_type": "code",
   "execution_count": null,
   "id": "01435bbb",
   "metadata": {},
   "outputs": [],
   "source": [
    "b1 = Bank()"
   ]
  },
  {
   "cell_type": "code",
   "execution_count": null,
   "id": "c5602542",
   "metadata": {},
   "outputs": [],
   "source": []
  }
 ],
 "metadata": {
  "kernelspec": {
   "display_name": "Python 3",
   "language": "python",
   "name": "python3"
  },
  "language_info": {
   "codemirror_mode": {
    "name": "ipython",
    "version": 3
   },
   "file_extension": ".py",
   "mimetype": "text/x-python",
   "name": "python",
   "nbconvert_exporter": "python",
   "pygments_lexer": "ipython3",
   "version": "3.13.1"
  }
 },
 "nbformat": 4,
 "nbformat_minor": 5
}
