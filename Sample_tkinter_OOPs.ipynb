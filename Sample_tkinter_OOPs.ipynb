{
 "cells": [
  {
   "cell_type": "code",
   "execution_count": 1,
   "id": "1b207237",
   "metadata": {},
   "outputs": [
    {
     "name": "stderr",
     "output_type": "stream",
     "text": [
      "2025-05-14 11:47:37.606 Python[2673:23809] +[IMKClient subclass]: chose IMKClient_Modern\n",
      "2025-05-14 11:47:37.606 Python[2673:23809] +[IMKInputSession subclass]: chose IMKInputSession_Modern\n"
     ]
    }
   ],
   "source": [
    "import tkinter as tk\n",
    "from tkinter import filedialog, messagebox, scrolledtext\n",
    "\n",
    "class Linecounter:\n",
    "    def __init__(self, file_name):\n",
    "        self.file_name = file_name\n",
    "        self.line = []\n",
    "\n",
    "    def read(self):\n",
    "        try:\n",
    "            with open(self.file_name, \"r\") as f:\n",
    "                self.line = f.readlines()\n",
    "        except Exception as e:\n",
    "            messagebox.showerror(\"Error\", f\"Could not read file: {e}\")\n",
    "\n",
    "    def fetch_ip_add(self):\n",
    "        self.ip_add = list(map(lambda x: x.split(\" \")[0], self.line))\n",
    "        return self.ip_add\n",
    "\n",
    "    def ip_add_20(self):\n",
    "        less_20 = filter(lambda x: int(x.split(\".\")[0]) < 20, self.fetch_ip_add())\n",
    "        return list(less_20)\n",
    "\n",
    "\n",
    "class IPGUI:\n",
    "    def __init__(self, root):\n",
    "        self.root = root\n",
    "        self.root.title(\"IP Address Analyzer\")\n",
    "        self.line_counter = None\n",
    "\n",
    "        self.label = tk.Label(root, text=\"Select a log file to analyze:\")\n",
    "        self.label.pack(pady=5)\n",
    "\n",
    "        self.select_button = tk.Button(root, text=\"Browse File\", command=self.load_file)\n",
    "        self.select_button.pack(pady=5)\n",
    "\n",
    "        self.all_ip_button = tk.Button(root, text=\"Show All IPs\", command=self.show_all_ips, state='disabled')\n",
    "        self.all_ip_button.pack(pady=5)\n",
    "\n",
    "        self.filtered_ip_button = tk.Button(root, text=\"Show IPs < 20\", command=self.show_filtered_ips, state='disabled')\n",
    "        self.filtered_ip_button.pack(pady=5)\n",
    "\n",
    "        self.output = scrolledtext.ScrolledText(root, width=60, height=20)\n",
    "        self.output.pack(pady=10)\n",
    "\n",
    "    def load_file(self):\n",
    "        file_path = filedialog.askopenfilename()\n",
    "        if file_path:\n",
    "            self.line_counter = Linecounter(file_path)\n",
    "            self.line_counter.read()\n",
    "            self.output.insert(tk.END, f\"Loaded file: {file_path}\\n\")\n",
    "            self.all_ip_button.config(state='normal')\n",
    "            self.filtered_ip_button.config(state='normal')\n",
    "\n",
    "    def show_all_ips(self):\n",
    "        self.output.delete('1.0', tk.END)\n",
    "        ips = self.line_counter.fetch_ip_add()\n",
    "        self.output.insert(tk.END, \"All IP Addresses:\\n\" + \"\\n\".join(ips))\n",
    "\n",
    "    def show_filtered_ips(self):\n",
    "        self.output.delete('1.0', tk.END)\n",
    "        ips = self.line_counter.ip_add_20()\n",
    "        self.output.insert(tk.END, \"IP Addresses with first octet < 20:\\n\" + \"\\n\".join(ips))\n",
    "\n",
    "\n",
    "# Run the GUI\n",
    "if __name__ == \"__main__\":\n",
    "    root = tk.Tk()\n",
    "    app = IPGUI(root)\n",
    "    root.mainloop()\n"
   ]
  },
  {
   "cell_type": "code",
   "execution_count": null,
   "id": "fffa10c5",
   "metadata": {},
   "outputs": [],
   "source": []
  }
 ],
 "metadata": {
  "kernelspec": {
   "display_name": "Python 3",
   "language": "python",
   "name": "python3"
  },
  "language_info": {
   "codemirror_mode": {
    "name": "ipython",
    "version": 3
   },
   "file_extension": ".py",
   "mimetype": "text/x-python",
   "name": "python",
   "nbconvert_exporter": "python",
   "pygments_lexer": "ipython3",
   "version": "3.13.1"
  }
 },
 "nbformat": 4,
 "nbformat_minor": 5
}
